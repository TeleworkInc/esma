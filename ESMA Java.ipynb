{
 "cells": [
  {
   "cell_type": "code",
   "execution_count": 2,
   "metadata": {},
   "outputs": [],
   "source": [
    "class StateContext {\n",
    "    private State state;\n",
    "    \n",
    "    public StateContext() {\n",
    "        state = new LowerCaseState();\n",
    "    }\n",
    "\n",
    "    /**\n",
    "     * Set the current state.\n",
    "     * Normally only called by classes implementing the State interface.\n",
    "     * @param newState the new state of this context\n",
    "     */\n",
    "    void setState(State newState) {\n",
    "        state = newState;\n",
    "    }\n",
    "\n",
    "    public void writeName(String name) {\n",
    "        state.writeName(this, name);\n",
    "    }\n",
    "}\n",
    "\n",
    "interface State {\n",
    "    void writeName(StateContext context, String name);\n",
    "}"
   ]
  },
  {
   "cell_type": "code",
   "execution_count": 32,
   "metadata": {},
   "outputs": [
    {
     "name": "stdout",
     "output_type": "stream",
     "text": [
      "Runtime: 16016.108us\n"
     ]
    }
   ],
   "source": [
    "import java.util.Collections;\n",
    "import java.lang.System;\n",
    "\n",
    "class Matrix2D extends Vector<Vector<Integer>> {\n",
    "    \n",
    "    Matrix2D(int rows, int cols) {\n",
    "        for (int i = 0; i < rows; i++) {\n",
    "            \n",
    "            Vector<Integer> column = new Vector<Integer>(cols);\n",
    "            for (int j = 0; j < cols; j++)\n",
    "                column.add(j, j);\n",
    "            \n",
    "            Collections.shuffle(column);\n",
    "            this.add(i, column);\n",
    "        }\n",
    "    }\n",
    "    \n",
    "}\n",
    "\n",
    "class PreferencesData {\n",
    "    PreferencesData() {}\n",
    "}\n",
    "\n",
    "class Preferences {\n",
    "    PreferencesData A, B;\n",
    "    Preferences() {\n",
    "        this.A = PreferencesData(A); \n",
    "        this.B = PreferencesData(B);\n",
    "    }\n",
    "}\n",
    "\n",
    "class RSMA {\n",
    "    \n",
    "    Matrix2D PA, PB;\n",
    "    RSMA(Matrix2D PA, Matrix2D PB) {\n",
    "        this.PA = PA;\n",
    "        this.PB = PB;\n",
    "    }\n",
    "    \n",
    "    static RSMA generateData(int rows, int cols) {\n",
    "        Matrix2D RandomPA = new Matrix2D(rows, cols);\n",
    "        Matrix2D RandomPB = new Matrix2D(rows, cols);\n",
    "        \n",
    "        return new RSMA(RandomPA, RandomPB);\n",
    "    }\n",
    "    \n",
    "}\n",
    "\n",
    "class Timer {\n",
    "    public static long startTime, endTime;\n",
    "    \n",
    "    public static void clockIn() {\n",
    "        Timer.startTime = System.nanoTime();\n",
    "    }\n",
    "    \n",
    "    public static void clockOut() {\n",
    "        Timer.endTime = System.nanoTime();\n",
    "        Timer.printTime();\n",
    "        Timer.reset();\n",
    "    }\n",
    "    \n",
    "    public static void printTime() {\n",
    "        double totalTime = Timer.endTime - Timer.startTime;\n",
    "        String suffix = \"ns\";\n",
    "        \n",
    "        if(totalTime > 1000) {\n",
    "            totalTime = totalTime / 1000;\n",
    "            suffix = \"us\";\n",
    "        }\n",
    "        \n",
    "        System.out.println(\"Runtime: \" + totalTime + suffix);\n",
    "    }\n",
    "    \n",
    "    public static void reset() {\n",
    "        Timer.startTime = Timer.endTime = 0;\n",
    "    }\n",
    "}\n",
    "\n",
    "RSMA rsma = RSMA.generateData(3,3);\n",
    "\n",
    "Timer.clockIn();\n",
    "rsma.PB;\n",
    "Timer.clockOut();"
   ]
  },
  {
   "cell_type": "code",
   "execution_count": 60,
   "metadata": {},
   "outputs": [
    {
     "name": "stdout",
     "output_type": "stream",
     "text": [
      "TEST\n",
      "19652935\n"
     ]
    }
   ],
   "source": [
    "final long clockin = System.nanoTime();\n",
    "System.out.println(\"TEST\");\n",
    "System.out.println(System.nanoTime() - clockin);"
   ]
  }
 ],
 "metadata": {
  "kernelspec": {
   "display_name": "Java",
   "language": "java",
   "name": "java"
  },
  "language_info": {
   "codemirror_mode": "java",
   "file_extension": ".jshell",
   "mimetype": "text/x-java-source",
   "name": "Java",
   "pygments_lexer": "java",
   "version": "11.0.6+10-post-Ubuntu-1ubuntu119.10.1"
  }
 },
 "nbformat": 4,
 "nbformat_minor": 2
}
