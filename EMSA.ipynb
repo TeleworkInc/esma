{
 "cells": [
  {
   "cell_type": "code",
   "execution_count": 1,
   "metadata": {},
   "outputs": [],
   "source": [
    "%reload_ext Cython"
   ]
  },
  {
   "cell_type": "code",
   "execution_count": 2,
   "metadata": {},
   "outputs": [],
   "source": [
    "%%cython -f\n",
    "from libc.stdlib cimport rand, RAND_MAX\n",
    "\n",
    "cpdef _random():\n",
    "    return rand() / RAND_MAX"
   ]
  },
  {
   "cell_type": "markdown",
   "metadata": {},
   "source": [
    "First, we assign a $Preferences$ class which will store 2D preferences matrices $P^A$ and $P^B$. We will use the function $Shape(M)$ to denote the dimensionality of a matrix, such that $Shape(M) \\mapsto (m,n)$, where $(m,n)$ represents the dimensionality of an $m \\times n$ matrix $M$.\n",
    "\n",
    "The number of members $A_n \\in \\mathbb{A}$ and number of members $B_n \\in \\mathbb{B}$, shall be represented with $a$ and $b$ respectively. Accordingly, the Preferences Matrices of Groups A and B, $P^A$ and $P^B$, will take shapes $a \\times b$ and $b \\times a$ respectively, such that:\n",
    "\n",
    "$$\n",
    "\\begin{equation*}\n",
    "Shape(P^A) \\mapsto (a, b); Shape(P^B) \\mapsto (b, a).\n",
    "\\label{eq:shape} \\tag{1}\n",
    "\\end{equation*}\n",
    "$$\n",
    "\n",
    "$P^A_i$ shall refer to $A_i$'s preferences list, such that $P^A_i [n]$ refers to $A_i$'s $n$th preference.\n",
    "\n",
    "$$\n",
    "\\begin{equation*}\n",
    "P^A =\n",
    "\\begin{bmatrix}\n",
    "    \\vec{P^A_{1}} \\\\\n",
    "    \\vec{P^A_{2}} \\\\\n",
    "    \\vdots \\\\\n",
    "    \\vec{P^A_a}\n",
    "\\end{bmatrix}\n",
    "=\n",
    "\\begin{bmatrix}\n",
    "    P^A_{11} & P^A_{12} & \\dots & P^A_{1b} \\\\\n",
    "    P^A_{21} & P^A_{22} & \\dots & P^A_{2b} \\\\\n",
    "    \\vdots & \\vdots & \\ddots & \\vdots \\\\\n",
    "    P^A_{a1} & P^A_{a2} & \\dots & P^A_{ab} \\\\\n",
    "\\end{bmatrix}; \\space\n",
    "P^B =\n",
    "\\begin{bmatrix}\n",
    "    \\vec{P^B_{1}} \\\\\n",
    "    \\vec{P^B_{2}} \\\\\n",
    "    \\vdots \\\\\n",
    "    \\vec{P^B_b}\n",
    "\\end{bmatrix}\n",
    "=\n",
    "\\begin{bmatrix}\n",
    "    P^B_{11} & P^B_{12} & \\dots & P^B_{1a} \\\\\n",
    "    P^B_{21} & P^B_{22} & \\dots & P^B_{2a} \\\\\n",
    "    \\vdots & \\vdots & \\ddots & \\vdots \\\\\n",
    "    P^B_{b1} & P^B_{b2} & \\dots & P^B_{ba} \\\\\n",
    "\\end{bmatrix}.\n",
    "\\label{eq:preferences} \\tag{2}\n",
    "\\end{equation*}\n",
    "$$"
   ]
  },
  {
   "cell_type": "markdown",
   "metadata": {},
   "source": [
    "Consider an example case where $N_A$ and $N_B$ are both 3, meaning $Shape(P_B)$ and $Shape(P_A)$ will both be $(3, 3)$ square matrices. Preference rankings will be random for this example.\n",
    "\n",
    "The current matches for $A$ and $B$ will be encoded in matrices denoted as $M^A$ and $M^B$ respectively, where $M^A_{31} = 1$ represents that there is a match between $A_3$ and $B_1$, $M^B_{23} = 0$ represents that there is not a match between $B_2$ and $A_3$, and so on. The initial state of these matrices, $M^A_i$ and $M^B_i$, will be full of zeroes and of shapes $a \\times b$ and $b \\times a$ respectively.\n",
    "\n",
    "# NOTE\n",
    "Changing logic so $P^A_{n,m}$ represent's $A_n$'s preference of $B_m$."
   ]
  },
  {
   "cell_type": "markdown",
   "metadata": {},
   "source": [
    "## Schematic\n",
    "\n",
    "$Preferences$\n",
    "\n",
    "Stores preference rankings for groups $\\mathbb A$ and $\\mathbb B$.\n",
    "\n",
    "```Java\n",
    "public AbstractSMA.Preferences\n",
    "```\n",
    "\n",
    "***\n",
    "\n",
    "$P^A, P^B$\n",
    "\n",
    "Contains raw matrix data for $P^A$ and $P^B$ at `Preferences.A` and `Preferences.B`.\n",
    "\n",
    "```Java\n",
    "public AbstractSMA.Preferences.A, AbstractSMA.Preferences.B\n",
    "```\n",
    "\n",
    "***\n",
    "\n",
    "$M^A, M^B$\n",
    "\n",
    "Matrix containing a matrix of binaries representing matches between group members.\n",
    "\n",
    "```Java\n",
    "public AbstractSMA.Matches.A, AbstractSMA.Matches.B\n",
    "```"
   ]
  },
  {
   "cell_type": "code",
   "execution_count": 266,
   "metadata": {
    "scrolled": true
   },
   "outputs": [
    {
     "name": "stdout",
     "output_type": "stream",
     "text": [
      "Group A is making all proposals for this test case.\n",
      "Done. Finished in 10 steps.\n",
      "\n",
      "MA\n",
      " [[5 0 0 0 0 0 0 0 0 0]\n",
      " [0 0 0 0 0 1 0 0 0 0]\n",
      " [0 0 0 5 0 0 0 0 0 0]\n",
      " [0 0 0 0 0 0 0 0 0 1]\n",
      " [0 0 6 0 0 0 0 0 0 0]\n",
      " [0 0 0 0 5 0 0 0 0 0]\n",
      " [0 0 0 0 0 0 0 0 6 0]\n",
      " [0 0 0 0 0 0 0 0 2 0]\n",
      " [0 0 0 0 5 0 0 0 0 0]\n",
      " [7 0 0 0 0 0 0 0 0 0]] \n",
      "\n",
      "\n",
      "MB\n",
      " [[10  0  0  0  0  0  0  0  0  0]\n",
      " [ 0  0  0  0  0 10  0  0  0  0]\n",
      " [ 0  0  0 10  0  0  0  0  0  0]\n",
      " [ 0  0  0  0  0  0  0  0  0 10]\n",
      " [ 0  0 10  0  0  0  0  0  0  0]\n",
      " [ 0  0  0  0 10  0  0  0  0  0]\n",
      " [ 0  0  0  0  0  0  0  0 10  0]\n",
      " [ 0  0  0  0  0  0  0  0 10  0]\n",
      " [ 0  0  0  0 10  0  0  0  0  0]\n",
      " [10  0  0  0  0  0  0  0  0  0]] \n",
      "\n",
      "\n"
     ]
    }
   ],
   "source": [
    "%%cython -f\n",
    "# cython: profile=True\n",
    "# cython: linetrace=True\n",
    "# cython: binding=True\n",
    "# distutils: define_macros=CYTHON_TRACE_NOGIL=1\n",
    "\n",
    "cimport cython\n",
    "from cython.parallel import parallel, prange\n",
    "from libc.stdlib cimport rand, RAND_MAX\n",
    "\n",
    "import cupy\n",
    "\n",
    "from random import random\n",
    "from cpython cimport array\n",
    "import numpy as np\n",
    "cimport numpy as np\n",
    "\n",
    "ctypedef np.int_t DTYPE_t\n",
    "cdef bint DEBUG\n",
    "\n",
    "## DATA GENERATION\n",
    "@cython.boundscheck(False)\n",
    "@cython.wraparound(False)\n",
    "cdef np.ndarray generateData(long i, long j):\n",
    "    \n",
    "    cdef long[:,:] output = np.zeros((i,j), dtype=np.int)\n",
    "    cdef long i_n, j_n\n",
    "    \n",
    "    with nogil, parallel():\n",
    "        for i_n in range(i):\n",
    "            for j_n in range(j):\n",
    "                output[i_n,j_n] = j_n + 1\n",
    "    \n",
    "    for row in output:\n",
    "        np.random.shuffle(row)\n",
    "        \n",
    "    return np.array(output, dtype=np.int)\n",
    "\n",
    "@cython.boundscheck(False)\n",
    "@cython.wraparound(False)\n",
    "cpdef inline np.ndarray getMaxMask(np.ndarray matrix):\n",
    "    cdef np.ndarray maxMatrix = np.amax(matrix, axis = 1, keepdims = True)\n",
    "    return matrix == maxMatrix\n",
    "\n",
    "@cython.boundscheck(False)\n",
    "@cython.wraparound(False)\n",
    "cpdef inline np.ndarray maskWithMax(np.ndarray matrix):\n",
    "    return matrix * getMaxMask(matrix)\n",
    "\n",
    "@cython.boundscheck(False)\n",
    "@cython.wraparound(False)\n",
    "cdef inline bint noEmptyRows(np.ndarray matrix):\n",
    "    cdef int numRows = matrix.shape[0]\n",
    "    return np.sum(np.amax(matrix, axis = 1, keepdims = True) > 0) >= numRows\n",
    "\n",
    "        \n",
    "cdef class AbstractSMA:\n",
    "    \n",
    "    cdef public:\n",
    "        int t, a, b\n",
    "        np.ndarray PA, PB\n",
    "        np.ndarray MA, MB\n",
    "        np.ndarray HA, HB\n",
    "        \n",
    "    def __init__(self, np.ndarray PA, np.ndarray PB):\n",
    "        \n",
    "        cdef:\n",
    "            int a = PA.shape[0]\n",
    "            int b = PB.shape[1]\n",
    "        \n",
    "        self.a, self.b = a, b\n",
    "        self.PA, self.PB = PA, PB\n",
    "\n",
    "        if(DEBUG): print(\"\\nPA (*)\\n\", self.PA, \"\\n\\nPB\\n\", self.PB, \"\\n\")\n",
    "        \n",
    "        # initialize MA, MB, HA, HB to np.zeros<int64> of size (a x b)\n",
    "        self.MA, self.MB = np.zeros(a, dtype=np.int), np.zeros(b, dtype=np.int)\n",
    "        self.HA = self.HB = np.zeros((a, b), dtype=np.int)\n",
    "    \n",
    "    @cython.boundscheck(False)\n",
    "    @cython.wraparound(False)\n",
    "    cdef AbstractSMA nextState(self):\n",
    "        \n",
    "        cdef:\n",
    "            # where A is max\n",
    "            np.ndarray proposerMask = (self.PA == max(0, self.a - self.t))\n",
    "            # B's rankings of A\n",
    "            np.ndarray proposerRankings = self.PB * proposerMask\n",
    "        \n",
    "        # tracks past proposals\n",
    "        self.HA = self.HA | proposerMask\n",
    "        \n",
    "        # new match is max of prev match and proposer\n",
    "        self.MB = self.MB | proposerRankings\n",
    "            \n",
    "        # start @ t = 0\n",
    "        if(DEBUG): \n",
    "            print(\"\\nt =\", self.t, \"\\n\")\n",
    "            print(\"Proposer Mask\\n\", proposerMask, \"\\n\\n\")\n",
    "            print(\"Proposer Rankings\\n\", proposerRankings, \"\\n\\n\")\n",
    "            print(\"History A\\n\", self.HA, \"\\n\\n\")\n",
    "        \n",
    "        # only one match per member\n",
    "        # MA is PA masked by MB\n",
    "        self.MB = self.MB * getMaxMask(self.MB)\n",
    "        self.MA = self.PA * (self.MB != 0)\n",
    "        \n",
    "        if(DEBUG):\n",
    "            print(\"final MA\\n\", self.MA, \"\\n\\n\")\n",
    "            print(\"final MB\\n\", self.MB, \"\\n\\n\")\n",
    "\n",
    "        self.t += 1\n",
    "        return self\n",
    "    \n",
    "    cdef bint everyoneIsContent(self):\n",
    "#         return np.sum(self.HA) == self.HA.size\n",
    "        return self.t >= self.a\n",
    "    \n",
    "    cdef AbstractSMA run(self):\n",
    "        while not self.everyoneIsContent():\n",
    "            self.nextState()\n",
    "        \n",
    "        return self\n",
    "\n",
    "cdef:\n",
    "#     np.ndarray PA = np.array([\n",
    "#         [1, 3, 2],\n",
    "#         [1, 2, 3],\n",
    "#         [1, 3, 2]\n",
    "#     ])\n",
    "    \n",
    "#     # change to size a x b\n",
    "#     np.ndarray PB = np.array([\n",
    "#         [2, 1, 3],\n",
    "#         [3, 2, 1],\n",
    "#         [1, 3, 2]\n",
    "#     ])\n",
    "    \n",
    "    int N = 10\n",
    "    np.ndarray PA = generateData(N, N)\n",
    "    np.ndarray PB = generateData(N, N)\n",
    "\n",
    "cpdef test():\n",
    "    return AbstractSMA(PA, PB).run()\n",
    "\n",
    "print(\"Group A is making all proposals for this test case.\")\n",
    "\n",
    "DEBUG = False\n",
    "myTest = test()\n",
    "print(\"Done. Finished in\", myTest.t, \"steps.\")\n",
    "print(\"\\nMA\\n\", myTest.MA, \"\\n\\n\")\n",
    "print(\"MB\\n\", myTest.MB, \"\\n\\n\")"
   ]
  },
  {
   "cell_type": "code",
   "execution_count": 272,
   "metadata": {
    "scrolled": false
   },
   "outputs": [
    {
     "name": "stdout",
     "output_type": "stream",
     "text": [
      "429 µs ± 0 ns per loop (mean ± std. dev. of 1 run, 1 loop each)\n"
     ]
    }
   ],
   "source": [
    "%timeit -r 1 -n 1 test()"
   ]
  },
  {
   "cell_type": "code",
   "execution_count": 224,
   "metadata": {},
   "outputs": [
    {
     "data": {
      "text/plain": [
       "array([[1, 1, 1],\n",
       "       [1, 1, 0],\n",
       "       [1, 0, 0]])"
      ]
     },
     "execution_count": 224,
     "metadata": {},
     "output_type": "execute_result"
    }
   ],
   "source": [
    "PA = np.array([\n",
    "    [1, 3, 2],\n",
    "    [1, 2, 3],\n",
    "    [1, 3, 2]\n",
    "])\n",
    "    \n",
    "PB = np.array([\n",
    "    [2, 1, 3],\n",
    "    [3, 2, 1],\n",
    "    [0, 3, 2]\n",
    "])\n",
    "\n",
    "test = np.array([\n",
    "    [0, 1, 1],\n",
    "    [0, 1, 0],\n",
    "    [1, 0, 0]\n",
    "])\n",
    "\n",
    "test2 = np.array([\n",
    "    [1, 0, 1],\n",
    "    [1, 1, 0],\n",
    "    [1, 0, 0]\n",
    "])\n",
    "\n",
    "test | test2"
   ]
  },
  {
   "cell_type": "markdown",
   "metadata": {},
   "source": [
    "## Expected Output\n",
    "\n",
    "```\n",
    "MA (a x b)\n",
    " [[0 0 2]\n",
    " [1 0 0]\n",
    " [0 3 0]] \n",
    "\n",
    "\n",
    "MB (a x b)\n",
    " [[0 0 3]\n",
    " [3 0 0]\n",
    " [0 3 0]] \n",
    "```"
   ]
  },
  {
   "cell_type": "markdown",
   "metadata": {},
   "source": [
    "## Todo\n",
    "\n",
    "- create a utility class that will expose underlying `np.ndarray`s\n",
    "- store `PA`, `PB`, `MA`, `MB`, etc. in this utility class, ie `RelationshipState`\n",
    "- add a new state property called `ProposalHistory` that tracks previous proposals"
   ]
  },
  {
   "cell_type": "code",
   "execution_count": 144,
   "metadata": {},
   "outputs": [
    {
     "data": {
      "text/plain": [
       "array([[0, 0, 0, 8],\n",
       "       [0, 0, 0, 8],\n",
       "       [0, 0, 0, 8],\n",
       "       [0, 0, 0, 8]])"
      ]
     },
     "execution_count": 144,
     "metadata": {},
     "output_type": "execute_result"
    }
   ],
   "source": [
    "PA = np.array([\n",
    "    [1, 3, 2, 4],\n",
    "    [1, 2, 3, 4],\n",
    "    [1, 3, 2, 4],\n",
    "    [1, 3, 2, 4]\n",
    "])\n",
    "\n",
    "PB_T = np.array([\n",
    "    [2, 1, 3, 4],\n",
    "    [3, 2, 1, 4],\n",
    "    [1, 3, 2, 4],\n",
    "    [1, 3, 2, 4]\n",
    "    \n",
    "])\n",
    "\n",
    "maskWithMax(PA + PB_T) * 1"
   ]
  },
  {
   "cell_type": "code",
   "execution_count": 70,
   "metadata": {},
   "outputs": [
    {
     "data": {
      "text/plain": [
       "1000"
      ]
     },
     "execution_count": 70,
     "metadata": {},
     "output_type": "execute_result"
    }
   ],
   "source": [
    "testa = np.random.random((1000,1000))\n",
    "def runtesta():\n",
    "    return np.sum(np.amax(testa, axis = 1, keepdims = True) > 0)\n",
    "\n",
    "testb = np.random.random((1000,1000))\n",
    "def runtestb():\n",
    "    return np.sum(np.amax(testb, axis = 1, keepdims = True) > 0)\n",
    "\n",
    "runtestb()"
   ]
  },
  {
   "cell_type": "code",
   "execution_count": 75,
   "metadata": {},
   "outputs": [
    {
     "name": "stdout",
     "output_type": "stream",
     "text": [
      "523 µs ± 70.9 µs per loop (mean ± std. dev. of 10 runs, 10 loops each)\n"
     ]
    }
   ],
   "source": [
    "%timeit -r 10 -n 10 runtesta()"
   ]
  },
  {
   "cell_type": "markdown",
   "metadata": {},
   "source": [
    "# Garbage Bin\n",
    "\n",
    "### Code below deprecated"
   ]
  },
  {
   "cell_type": "code",
   "execution_count": 50,
   "metadata": {},
   "outputs": [
    {
     "name": "stdout",
     "output_type": "stream",
     "text": [
      "[[0 0 3]\n",
      " [0 3 0]\n",
      " [0 0 3]] \n",
      "\n",
      " [[False False  True]\n",
      " [False  True False]\n",
      " [False False  True]]\n"
     ]
    }
   ],
   "source": [
    "# MUST 1-INDEX!\n",
    "\n",
    "PA = np.array([\n",
    "    [1, 2, 3],\n",
    "    [1, 3, 2],\n",
    "    [2, 1, 3]\n",
    "])\n",
    "\n",
    "PB = np.array([\n",
    "    [1, 3, 2],\n",
    "    [2, 1, 3],\n",
    "    [2, 1, 0]\n",
    "])\n",
    "\n",
    "\n",
    "MA = np.zeros((3,3))\n",
    "MB = np.zeros((3,3))\n",
    "\n",
    "out = (PA == 3) * PA\n",
    "print(out, \"\\n\\n\", out == np.amax(out, axis=1))"
   ]
  },
  {
   "cell_type": "code",
   "execution_count": 539,
   "metadata": {
    "scrolled": true
   },
   "outputs": [
    {
     "name": "stdout",
     "output_type": "stream",
     "text": [
      "[[1 1 1 0 1]\n",
      " [0 1 1 0 0]\n",
      " [1 0 0 0 1]\n",
      " [0 0 1 1 1]\n",
      " [1 0 1 0 0]]\n"
     ]
    }
   ],
   "source": [
    "%%cython -f --compile-args=-fopenmp --link-args=-fopenmp\n",
    "\n",
    "import cython\n",
    "import numpy as np\n",
    "cimport numpy as np\n",
    "\n",
    "from cython.parallel import parallel, prange\n",
    "from libc.stdlib cimport rand, RAND_MAX\n",
    "cimport cyrandom\n",
    "\n",
    "# types\n",
    "from libc.stdint cimport int32_t, uint8_t, uint16_t, uint32_t\n",
    "\n",
    "\n",
    "\n",
    "cdef class PreferencesData:\n",
    "    \n",
    "    cdef DTYPE_t[:,:] matrix\n",
    "    \n",
    "    def __init__(self, np.ndarray data):\n",
    "        self.matrix = data\n",
    "        \n",
    "        cdef Py_ssize_t[:] shape = self.matrix.shape\n",
    "        cdef int i, j\n",
    "        \n",
    "        for i in range(shape[0]):\n",
    "            for j in range(shape[1]):\n",
    "                self.matrix[i][j] = 0\n",
    "        \n",
    "    cpdef np.ndarray array(self):\n",
    "        return np.array(self.matrix)\n",
    "\n",
    "\n",
    "ctypedef np.int_t DTYPE_t\n",
    "\n",
    "@cython.boundscheck(False)\n",
    "@cython.wraparound(False)\n",
    "cpdef generateData(int i, int j):\n",
    "    \n",
    "    cdef int[:,:] out = np.empty((i, j), dtype=np.int32)\n",
    "    cdef int i_n, j_n\n",
    "    cdef int[:] col_idx\n",
    "    cdef double _rand\n",
    "    \n",
    "    with cython.nogil, parallel():\n",
    "        for i_n in prange(i):\n",
    "            for j_n in prange(j):\n",
    "                out[i_n,j_n] = rand() / RAND_MAX > 0.5\n",
    "#                 np.random.shuffle(out[i_n])\n",
    "        \n",
    "    return out\n",
    "\n",
    "print(np.asarray(generateData(5,5)))"
   ]
  },
  {
   "cell_type": "code",
   "execution_count": 559,
   "metadata": {},
   "outputs": [
    {
     "name": "stdout",
     "output_type": "stream",
     "text": [
      "The slowest run took 30.28 times longer than the fastest. This could mean that an intermediate result is being cached.\n",
      "171 µs ± 169 µs per loop (mean ± std. dev. of 1000 runs, 10 loops each)\n"
     ]
    }
   ],
   "source": [
    "%timeit -r 1000 -n 10 generateData(10,10)"
   ]
  },
  {
   "cell_type": "code",
   "execution_count": 518,
   "metadata": {},
   "outputs": [],
   "source": [
    "%%cython -f \n",
    "import cython\n",
    "import numpy as np\n",
    "cimport numpy as np\n",
    "from cython.parallel import parallel, prange\n",
    "\n",
    "@cython.boundscheck(False)\n",
    "@cython.wraparound(False)\n",
    "def matrix_multiply2(double[:,:] u, double[:, :] v, double[:, :] res):\n",
    "    cdef int i, j, k\n",
    "    \n",
    "    cdef int m = u.shape[0]\n",
    "    cdef int n = u.shape[1]\n",
    "    cdef int p = v.shape[1]\n",
    "\n",
    "    with cython.nogil, parallel():\n",
    "        for i in prange(m):\n",
    "            for j in prange(p):\n",
    "                res[i,j] = 0\n",
    "                for k in range(n):\n",
    "                    res[i,j] += u[i,k] * v[k,j]"
   ]
  },
  {
   "cell_type": "code",
   "execution_count": 266,
   "metadata": {},
   "outputs": [
    {
     "name": "stdout",
     "output_type": "stream",
     "text": [
      "The slowest run took 23.90 times longer than the fastest. This could mean that an intermediate result is being cached.\n",
      "7.55 µs ± 13.4 µs per loop (mean ± std. dev. of 10 runs, 10 loops each)\n"
     ]
    }
   ],
   "source": [
    "## WORKING NOGIL\n",
    "# Much faster without fopenmap???\n",
    "u = np.random.random((10,20))\n",
    "v = np.random.random((20,5))\n",
    "res = np.zeros((u.shape[0], v.shape[1]))\n",
    "%timeit -r10 -n10 matrix_multiply2(u, v, res)"
   ]
  },
  {
   "cell_type": "code",
   "execution_count": 20,
   "metadata": {
    "scrolled": true
   },
   "outputs": [
    {
     "name": "stderr",
     "output_type": "stream",
     "text": [
      "\n",
      "Error compiling Cython file:\n",
      "------------------------------------------------------------\n",
      "...\n",
      "from cpython cimport array\n",
      "\n",
      "cdef list test = [1,2,3]\n",
      "cdef int[:] testInts = array.array(\"i\", test)\n",
      "with nogil:\n",
      "    for t_i in testInts:\n",
      "              ^\n",
      "------------------------------------------------------------\n",
      "\n",
      "/home/christian/.cache/ipython/cython/_cython_magic_b226d6494c41071575c828ace054c84b.pyx:6:15: Iterating over Python object not allowed without gil\n",
      "\n",
      "Error compiling Cython file:\n",
      "------------------------------------------------------------\n",
      "...\n",
      "from cpython cimport array\n",
      "\n",
      "cdef list test = [1,2,3]\n",
      "cdef int[:] testInts = array.array(\"i\", test)\n",
      "with nogil:\n",
      "    for t_i in testInts:\n",
      "              ^\n",
      "------------------------------------------------------------\n",
      "\n",
      "/home/christian/.cache/ipython/cython/_cython_magic_b226d6494c41071575c828ace054c84b.pyx:6:15: Converting to Python object not allowed without gil\n",
      "\n",
      "Error compiling Cython file:\n",
      "------------------------------------------------------------\n",
      "...\n",
      "\n",
      "cdef list test = [1,2,3]\n",
      "cdef int[:] testInts = array.array(\"i\", test)\n",
      "with nogil:\n",
      "    for t_i in testInts:\n",
      "        print(t_i)\n",
      "            ^\n",
      "------------------------------------------------------------\n",
      "\n",
      "/home/christian/.cache/ipython/cython/_cython_magic_b226d6494c41071575c828ace054c84b.pyx:7:13: Discarding owned Python object not allowed without gil\n",
      "\n",
      "Error compiling Cython file:\n",
      "------------------------------------------------------------\n",
      "...\n",
      "\n",
      "cdef list test = [1,2,3]\n",
      "cdef int[:] testInts = array.array(\"i\", test)\n",
      "with nogil:\n",
      "    for t_i in testInts:\n",
      "        print(t_i)\n",
      "            ^\n",
      "------------------------------------------------------------\n",
      "\n",
      "/home/christian/.cache/ipython/cython/_cython_magic_b226d6494c41071575c828ace054c84b.pyx:7:13: Calling gil-requiring function not allowed without gil\n",
      "\n",
      "Error compiling Cython file:\n",
      "------------------------------------------------------------\n",
      "...\n",
      "\n",
      "cdef list test = [1,2,3]\n",
      "cdef int[:] testInts = array.array(\"i\", test)\n",
      "with nogil:\n",
      "    for t_i in testInts:\n",
      "        print(t_i)\n",
      "            ^\n",
      "------------------------------------------------------------\n",
      "\n",
      "/home/christian/.cache/ipython/cython/_cython_magic_b226d6494c41071575c828ace054c84b.pyx:7:13: Constructing Python tuple not allowed without gil\n",
      "\n",
      "Error compiling Cython file:\n",
      "------------------------------------------------------------\n",
      "...\n",
      "\n",
      "cdef list test = [1,2,3]\n",
      "cdef int[:] testInts = array.array(\"i\", test)\n",
      "with nogil:\n",
      "    for t_i in testInts:\n",
      "        print(t_i)\n",
      "             ^\n",
      "------------------------------------------------------------\n",
      "\n",
      "/home/christian/.cache/ipython/cython/_cython_magic_b226d6494c41071575c828ace054c84b.pyx:7:14: Accessing Python global or builtin not allowed without gil\n"
     ]
    }
   ],
   "source": [
    "cdef class Person:\n",
    "    def __init__(self):\n",
    "        pass\n",
    "\n",
    "cdef class PersonList:\n",
    "    cdef Person[:] people\n",
    "    \n",
    "    def __init__(self, int numPeople):\n",
    "        self.allocate(numPeople)\n",
    "        \n",
    "    cdef void allocate(int numPeople):\n",
    "        pass"
   ]
  },
  {
   "cell_type": "code",
   "execution_count": 127,
   "metadata": {},
   "outputs": [],
   "source": [
    "%%cython -f\n",
    "\n",
    "import numpy as np\n",
    "cimport numpy as np\n",
    "cimport cython # so we can use cython decorators\n",
    "from cpython cimport bool # type annotation for boolean\n",
    "\n",
    "# disable index bounds checking and negative indexing for speedups\n",
    "@cython.wraparound(False)\n",
    "@cython.boundscheck(False)\n",
    "cpdef cython_get_sample(np.ndarray arr, \n",
    "                        arr_len,\n",
    "                        n_iter, \n",
    "                        int sample_size, \n",
    "                        bool fast = False):\n",
    "    \n",
    "    cdef int start_idx\n",
    "    if fast:\n",
    "        start_idx = (n_iter * sample_size) % arr_len\n",
    "        if start_idx + sample_size >= arr_len:\n",
    "            np.random.shuffle(arr)\n",
    "            \n",
    "        return arr[start_idx:start_idx+sample_size] \n",
    "    else:\n",
    "        return np.random.choice(arr, sample_size, replace=False)"
   ]
  }
 ],
 "metadata": {
  "kernelspec": {
   "display_name": "Python 3",
   "language": "python",
   "name": "python3"
  },
  "language_info": {
   "codemirror_mode": {
    "name": "ipython",
    "version": 3
   },
   "file_extension": ".py",
   "mimetype": "text/x-python",
   "name": "python",
   "nbconvert_exporter": "python",
   "pygments_lexer": "ipython3",
   "version": "3.7.5"
  }
 },
 "nbformat": 4,
 "nbformat_minor": 2
}
